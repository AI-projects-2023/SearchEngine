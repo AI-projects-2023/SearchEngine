{
 "cells": [
  {
   "cell_type": "code",
   "execution_count": 89,
   "metadata": {},
   "outputs": [],
   "source": [
    "import openai\n",
    "import pandas as pd\n",
    "import numpy as np\n",
    "from openai.embeddings_utils import get_embedding\n",
    "from openai.embeddings_utils import cosine_similarity\n",
    "openai.api_key = \"MY API KEY\"\n",
    "pd.set_option('display.max_colwidth', None)\n",
    "pd.set_option('display.expand_frame_repr', False)"
   ]
  },
  {
   "cell_type": "code",
   "execution_count": 127,
   "metadata": {},
   "outputs": [
    {
     "data": {
      "text/html": [
       "<div>\n",
       "<style scoped>\n",
       "    .dataframe tbody tr th:only-of-type {\n",
       "        vertical-align: middle;\n",
       "    }\n",
       "\n",
       "    .dataframe tbody tr th {\n",
       "        vertical-align: top;\n",
       "    }\n",
       "\n",
       "    .dataframe thead th {\n",
       "        text-align: right;\n",
       "    }\n",
       "</style>\n",
       "<table border=\"1\" class=\"dataframe\">\n",
       "  <thead>\n",
       "    <tr style=\"text-align: right;\">\n",
       "      <th></th>\n",
       "      <th>text</th>\n",
       "    </tr>\n",
       "  </thead>\n",
       "  <tbody>\n",
       "    <tr>\n",
       "      <th>0</th>\n",
       "      <td>Inquiry specific to Ewon Technical Support - Questions that involve troubleshooting, configuration, and operational guidance of Ewon products such as Flexy and Cosy routers, Talk2M services, and data management tools. Explicitly related to addressing technical challenges, setup procedures, or understanding functionalities and features unique to the Ewon ecosystem as encountered by customers or technicians in an industrial ICT environment.</td>\n",
       "    </tr>\n",
       "  </tbody>\n",
       "</table>\n",
       "</div>"
      ],
      "text/plain": [
       "                                                                                                                                                                                                                                                                                                                                                                                                                                                         text\n",
       "0  Inquiry specific to Ewon Technical Support - Questions that involve troubleshooting, configuration, and operational guidance of Ewon products such as Flexy and Cosy routers, Talk2M services, and data management tools. Explicitly related to addressing technical challenges, setup procedures, or understanding functionalities and features unique to the Ewon ecosystem as encountered by customers or technicians in an industrial ICT environment."
      ]
     },
     "execution_count": 127,
     "metadata": {},
     "output_type": "execute_result"
    }
   ],
   "source": [
    "df = pd.read_csv(\"words.csv\")\n",
    "df"
   ]
  },
  {
   "cell_type": "code",
   "execution_count": 128,
   "metadata": {},
   "outputs": [
    {
     "data": {
      "text/html": [
       "<div>\n",
       "<style scoped>\n",
       "    .dataframe tbody tr th:only-of-type {\n",
       "        vertical-align: middle;\n",
       "    }\n",
       "\n",
       "    .dataframe tbody tr th {\n",
       "        vertical-align: top;\n",
       "    }\n",
       "\n",
       "    .dataframe thead th {\n",
       "        text-align: right;\n",
       "    }\n",
       "</style>\n",
       "<table border=\"1\" class=\"dataframe\">\n",
       "  <thead>\n",
       "    <tr style=\"text-align: right;\">\n",
       "      <th></th>\n",
       "      <th>text</th>\n",
       "      <th>embedding</th>\n",
       "    </tr>\n",
       "  </thead>\n",
       "  <tbody>\n",
       "    <tr>\n",
       "      <th>0</th>\n",
       "      <td>Inquiry specific to Ewon Technical Support - Questions that involve troubleshooting, configuration, and operational guidance of Ewon products such as Flexy and Cosy routers, Talk2M services, and data management tools. Explicitly related to addressing technical challenges, setup procedures, or understanding functionalities and features unique to the Ewon ecosystem as encountered by customers or technicians in an industrial ICT environment.</td>\n",
       "      <td>[-0.0007503639790229499, 0.004198963288217783, 0.011500171385705471, -0.029355162754654884, -0.03408369421958923, 0.024025313556194305, -0.003788975067436695, -0.008110934868454933, -0.0006508564110845327, -0.019009791314601898, -0.008145100437104702, -0.009094906970858574, -0.01680951938033104, 0.0020960650872439146, -0.020731741562485695, 0.023205338045954704, 0.0029963310807943344, 0.004089633468538523, 0.002470179460942745, -0.01631753332912922, -0.03069445677101612, -0.0032371992710977793, -0.001031803898513317, 0.009552727453410625, 0.005739836022257805, -0.017274172976613045, 0.007871774956583977, -0.026116253808140755, -0.01642686501145363, -0.007024466060101986, 0.0119169931858778, -0.01137034222483635, -0.012080988846719265, -0.009511728771030903, -0.023150673136115074, -0.0321977473795414, 0.012374813668429852, -0.0078239431604743, 0.0201030932366848, -0.0220163706690073, 0.041709475219249725, 0.023150673136115074, 0.003187658963724971, 0.006197656504809856, -0.0047148652374744415, 0.028480520471930504, 0.0016886392841115594, -0.0010762192541733384, 0.01400793343782425, 0.013297286815941334, -0.011766663752496243, -0.0016032250132411718, -0.021428721025586128, -0.019091788679361343, -0.000960055913310498, 0.01844947412610054, -0.0028032949194312096, 0.025665268301963806, -0.007653114851564169, -0.0159212127327919, -0.03069445677101612, 0.006918552331626415, -0.02268601953983307, 0.0011129473568871617, -0.0016783896135166287, -0.0021353557240217924, -0.01642686501145363, 0.002082398859784007, -0.013693609274923801, -0.006508564110845327, 0.02361532673239708, 0.021046066656708717, 0.00027204432990401983, 0.009846552275121212, 0.010693861171603203, -0.008110934868454933, 0.0014674164121970534, 0.002639299724251032, -0.000509495846927166, 0.010393203236162663, -0.018203480169177055, -0.020854737609624863, -0.03268973529338837, 0.004680699668824673, 0.006904886104166508, 0.008609754033386707, 0.01615353859961033, 0.02125106006860733, -0.009696222841739655, 0.003061245894059539, 0.01675485447049141, 0.027646876871585846, 0.014335923828184605, 0.0037787253968417645, 0.030776454135775566, 0.007489119656383991, -0.007352456916123629, 0.028261860832571983, -0.021770378574728966, -0.02081373892724514, ...]</td>\n",
       "    </tr>\n",
       "  </tbody>\n",
       "</table>\n",
       "</div>"
      ],
      "text/plain": [
       "                                                                                                                                                                                                                                                                                                                                                                                                                                                         text                                                                                                                                                                                                                                                                                                                                                                                                                                                                                                                                                                                                                                                                                                                                                                                                                                                                                                                                                                                                                                                                                                                                                                                                                                                                                                                                                                                                                                                                                                                                                                                                                                                                                                                                                                                                                                                                                                                                                                                                                                                                                                                                                                                                                                                                                                                              embedding\n",
       "0  Inquiry specific to Ewon Technical Support - Questions that involve troubleshooting, configuration, and operational guidance of Ewon products such as Flexy and Cosy routers, Talk2M services, and data management tools. Explicitly related to addressing technical challenges, setup procedures, or understanding functionalities and features unique to the Ewon ecosystem as encountered by customers or technicians in an industrial ICT environment.  [-0.0007503639790229499, 0.004198963288217783, 0.011500171385705471, -0.029355162754654884, -0.03408369421958923, 0.024025313556194305, -0.003788975067436695, -0.008110934868454933, -0.0006508564110845327, -0.019009791314601898, -0.008145100437104702, -0.009094906970858574, -0.01680951938033104, 0.0020960650872439146, -0.020731741562485695, 0.023205338045954704, 0.0029963310807943344, 0.004089633468538523, 0.002470179460942745, -0.01631753332912922, -0.03069445677101612, -0.0032371992710977793, -0.001031803898513317, 0.009552727453410625, 0.005739836022257805, -0.017274172976613045, 0.007871774956583977, -0.026116253808140755, -0.01642686501145363, -0.007024466060101986, 0.0119169931858778, -0.01137034222483635, -0.012080988846719265, -0.009511728771030903, -0.023150673136115074, -0.0321977473795414, 0.012374813668429852, -0.0078239431604743, 0.0201030932366848, -0.0220163706690073, 0.041709475219249725, 0.023150673136115074, 0.003187658963724971, 0.006197656504809856, -0.0047148652374744415, 0.028480520471930504, 0.0016886392841115594, -0.0010762192541733384, 0.01400793343782425, 0.013297286815941334, -0.011766663752496243, -0.0016032250132411718, -0.021428721025586128, -0.019091788679361343, -0.000960055913310498, 0.01844947412610054, -0.0028032949194312096, 0.025665268301963806, -0.007653114851564169, -0.0159212127327919, -0.03069445677101612, 0.006918552331626415, -0.02268601953983307, 0.0011129473568871617, -0.0016783896135166287, -0.0021353557240217924, -0.01642686501145363, 0.002082398859784007, -0.013693609274923801, -0.006508564110845327, 0.02361532673239708, 0.021046066656708717, 0.00027204432990401983, 0.009846552275121212, 0.010693861171603203, -0.008110934868454933, 0.0014674164121970534, 0.002639299724251032, -0.000509495846927166, 0.010393203236162663, -0.018203480169177055, -0.020854737609624863, -0.03268973529338837, 0.004680699668824673, 0.006904886104166508, 0.008609754033386707, 0.01615353859961033, 0.02125106006860733, -0.009696222841739655, 0.003061245894059539, 0.01675485447049141, 0.027646876871585846, 0.014335923828184605, 0.0037787253968417645, 0.030776454135775566, 0.007489119656383991, -0.007352456916123629, 0.028261860832571983, -0.021770378574728966, -0.02081373892724514, ...]"
      ]
     },
     "execution_count": 128,
     "metadata": {},
     "output_type": "execute_result"
    }
   ],
   "source": [
    "df['embedding'] = df['text'].apply(lambda x: get_embedding(x, engine='text-embedding-ada-002'))\n",
    "df.to_csv('word_embeddings.csv')\n",
    "df"
   ]
  },
  {
   "cell_type": "code",
   "execution_count": 129,
   "metadata": {},
   "outputs": [
    {
     "data": {
      "text/html": [
       "<div>\n",
       "<style scoped>\n",
       "    .dataframe tbody tr th:only-of-type {\n",
       "        vertical-align: middle;\n",
       "    }\n",
       "\n",
       "    .dataframe tbody tr th {\n",
       "        vertical-align: top;\n",
       "    }\n",
       "\n",
       "    .dataframe thead th {\n",
       "        text-align: right;\n",
       "    }\n",
       "</style>\n",
       "<table border=\"1\" class=\"dataframe\">\n",
       "  <thead>\n",
       "    <tr style=\"text-align: right;\">\n",
       "      <th></th>\n",
       "      <th>Unnamed: 0</th>\n",
       "      <th>text</th>\n",
       "      <th>embedding</th>\n",
       "    </tr>\n",
       "  </thead>\n",
       "  <tbody>\n",
       "    <tr>\n",
       "      <th>0</th>\n",
       "      <td>0</td>\n",
       "      <td>Inquiry specific to Ewon Technical Support - Questions that involve troubleshooting, configuration, and operational guidance of Ewon products such as Flexy and Cosy routers, Talk2M services, and data management tools. Explicitly related to addressing technical challenges, setup procedures, or understanding functionalities and features unique to the Ewon ecosystem as encountered by customers or technicians in an industrial ICT environment.</td>\n",
       "      <td>[-0.0007503639790229499, 0.004198963288217783, 0.011500171385705471, -0.029355162754654884, -0.03408369421958923, 0.024025313556194305, -0.003788975067436695, -0.008110934868454933, -0.0006508564110845327, -0.019009791314601898, -0.008145100437104702, -0.009094906970858574, -0.01680951938033104, 0.0020960650872439146, -0.020731741562485695, 0.023205338045954704, 0.0029963310807943344, 0.004089633468538523, 0.002470179460942745, -0.01631753332912922, -0.03069445677101612, -0.0032371992710977793, -0.001031803898513317, 0.009552727453410625, 0.005739836022257805, -0.017274172976613045, 0.007871774956583977, -0.026116253808140755, -0.01642686501145363, -0.007024466060101986, 0.0119169931858778, -0.01137034222483635, -0.012080988846719265, -0.009511728771030903, -0.023150673136115074, -0.0321977473795414, 0.012374813668429852, -0.0078239431604743, 0.0201030932366848, -0.0220163706690073, 0.041709475219249725, 0.023150673136115074, 0.003187658963724971, 0.006197656504809856, -0.0047148652374744415, 0.028480520471930504, 0.0016886392841115594, -0.0010762192541733384, 0.01400793343782425, 0.013297286815941334, -0.011766663752496243, -0.0016032250132411718, -0.021428721025586128, -0.019091788679361343, -0.000960055913310498, 0.01844947412610054, -0.0028032949194312096, 0.025665268301963806, -0.007653114851564169, -0.0159212127327919, -0.03069445677101612, 0.006918552331626415, -0.02268601953983307, 0.0011129473568871617, -0.0016783896135166287, -0.0021353557240217924, -0.01642686501145363, 0.002082398859784007, -0.013693609274923801, -0.006508564110845327, 0.02361532673239708, 0.021046066656708717, 0.00027204432990401983, 0.009846552275121212, 0.010693861171603203, -0.008110934868454933, 0.0014674164121970534, 0.002639299724251032, -0.000509495846927166, 0.010393203236162663, -0.018203480169177055, -0.020854737609624863, -0.03268973529338837, 0.004680699668824673, 0.006904886104166508, 0.008609754033386707, 0.01615353859961033, 0.02125106006860733, -0.009696222841739655, 0.003061245894059539, 0.01675485447049141, 0.027646876871585846, 0.014335923828184605, 0.0037787253968417645, 0.030776454135775566, 0.007489119656383991, -0.007352456916123629, 0.028261860832571983, -0.021770378574728966, -0.02081373892724514, ...]</td>\n",
       "    </tr>\n",
       "  </tbody>\n",
       "</table>\n",
       "</div>"
      ],
      "text/plain": [
       "   Unnamed: 0                                                                                                                                                                                                                                                                                                                                                                                                                                                        text                                                                                                                                                                                                                                                                                                                                                                                                                                                                                                                                                                                                                                                                                                                                                                                                                                                                                                                                                                                                                                                                                                                                                                                                                                                                                                                                                                                                                                                                                                                                                                                                                                                                                                                                                                                                                                                                                                                                                                                                                                                                                                                                                                                                                                                                                                                              embedding\n",
       "0           0  Inquiry specific to Ewon Technical Support - Questions that involve troubleshooting, configuration, and operational guidance of Ewon products such as Flexy and Cosy routers, Talk2M services, and data management tools. Explicitly related to addressing technical challenges, setup procedures, or understanding functionalities and features unique to the Ewon ecosystem as encountered by customers or technicians in an industrial ICT environment.  [-0.0007503639790229499, 0.004198963288217783, 0.011500171385705471, -0.029355162754654884, -0.03408369421958923, 0.024025313556194305, -0.003788975067436695, -0.008110934868454933, -0.0006508564110845327, -0.019009791314601898, -0.008145100437104702, -0.009094906970858574, -0.01680951938033104, 0.0020960650872439146, -0.020731741562485695, 0.023205338045954704, 0.0029963310807943344, 0.004089633468538523, 0.002470179460942745, -0.01631753332912922, -0.03069445677101612, -0.0032371992710977793, -0.001031803898513317, 0.009552727453410625, 0.005739836022257805, -0.017274172976613045, 0.007871774956583977, -0.026116253808140755, -0.01642686501145363, -0.007024466060101986, 0.0119169931858778, -0.01137034222483635, -0.012080988846719265, -0.009511728771030903, -0.023150673136115074, -0.0321977473795414, 0.012374813668429852, -0.0078239431604743, 0.0201030932366848, -0.0220163706690073, 0.041709475219249725, 0.023150673136115074, 0.003187658963724971, 0.006197656504809856, -0.0047148652374744415, 0.028480520471930504, 0.0016886392841115594, -0.0010762192541733384, 0.01400793343782425, 0.013297286815941334, -0.011766663752496243, -0.0016032250132411718, -0.021428721025586128, -0.019091788679361343, -0.000960055913310498, 0.01844947412610054, -0.0028032949194312096, 0.025665268301963806, -0.007653114851564169, -0.0159212127327919, -0.03069445677101612, 0.006918552331626415, -0.02268601953983307, 0.0011129473568871617, -0.0016783896135166287, -0.0021353557240217924, -0.01642686501145363, 0.002082398859784007, -0.013693609274923801, -0.006508564110845327, 0.02361532673239708, 0.021046066656708717, 0.00027204432990401983, 0.009846552275121212, 0.010693861171603203, -0.008110934868454933, 0.0014674164121970534, 0.002639299724251032, -0.000509495846927166, 0.010393203236162663, -0.018203480169177055, -0.020854737609624863, -0.03268973529338837, 0.004680699668824673, 0.006904886104166508, 0.008609754033386707, 0.01615353859961033, 0.02125106006860733, -0.009696222841739655, 0.003061245894059539, 0.01675485447049141, 0.027646876871585846, 0.014335923828184605, 0.0037787253968417645, 0.030776454135775566, 0.007489119656383991, -0.007352456916123629, 0.028261860832571983, -0.021770378574728966, -0.02081373892724514, ...]"
      ]
     },
     "execution_count": 129,
     "metadata": {},
     "output_type": "execute_result"
    }
   ],
   "source": [
    "df = pd.read_csv('word_embeddings.csv')\n",
    "df['embedding'] = df['embedding'].apply(lambda x: np.array(eval(x)))\n",
    "df"
   ]
  },
  {
   "cell_type": "code",
   "execution_count": 130,
   "metadata": {},
   "outputs": [],
   "source": [
    "def compute_embeddings(questions, engine='text-embedding-ada-002'):\n",
    "    return [get_embedding(question, engine=engine) for question in questions]\n",
    "\n",
    "questions_with_labels = [\n",
    "    # Ewon-Related Questions\n",
    "    (\"Ewon-Related\", \"How do I set up data logging on my Ewon Flexy?\"),\n",
    "    (\"Ewon-Related\", \"What troubleshooting steps are available for Ewon Cosy's VPN connectivity issues?\"),\n",
    "    (\"Ewon-Related\", \"Which Ewon product should I use for IIoT applications?\"),\n",
    "    (\"Ewon-Related\", \"Does Ewon Flexy support MQTT protocol?\"),\n",
    "    (\"Ewon-Related\", \"How to integrate Ewon Flexy with Azure IoT Hub?\"),\n",
    "    (\"Ewon-Related\", \"What's the difference between the Ewon Cosy and Flexy models?\"),\n",
    "    (\"Ewon-Related\", \"How secure are Ewon VPN connections?\"),\n",
    "    (\"Ewon-Related\", \"Can the Ewon Flexy send SMS alerts for system events?\"),\n",
    "    (\"Ewon-Related\", \"Can I connect my Ewon Flexy to multiple machine types simultaneously?\"),\n",
    "    (\"Ewon-Related\", \"What are the data transfer limits on the Ewon Talk2M service?\"),\n",
    "    (\"Ewon-Related\", \"Are Ewon devices compatible with OPC UA protocols?\"),\n",
    "    (\"Ewon-Related\", \"How do I manage user permissions on Ewon Flexy?\"),\n",
    "    (\"Ewon-Related\", \"What warranty comes with Ewon devices?\"),\n",
    "    (\"Ewon-Related\", \"Does Ewon offer any cloud-based analytics services?\"),\n",
    "    (\"Ewon-Related\", \"Is there a backup option for Ewon Flexy configurations?\"),\n",
    "    (\"Ewon-Related\", \"How many simultaneous VPN connections can an Ewon Cosy handle?\"),\n",
    "    (\"Ewon-Related\", \"Do you provide support for Ewon scripting?\"),\n",
    "    (\"Ewon-Related\", \"What kind of technical documentation is available for Ewon products?\"),\n",
    "    (\"Ewon-Related\", \"Are there any IP rating certifications for Ewon devices?\"),\n",
    "    (\"Ewon-Related\", \"Can I control an Ewon device using a mobile app?\"),\n",
    "    (\"Ewon-Related\", \"How do firmware updates work on the Ewon Cosy?\"),\n",
    "    (\"Ewon-Related\", \"Can I integrate Ewon products with third-party IoT platforms?\"),\n",
    "    (\"Ewon-Related\", \"What methods can I use for remote Ewon device maintenance?\"),\n",
    "    (\"Ewon-Related\", \"How does the Ewon Talk2M service handle large amounts of data?\"),\n",
    "\n",
    "    # Random Questions\n",
    "    (\"Random\", \"Can you recommend a good book for learning Python?\"),\n",
    "    (\"Random\", \"What's the most effective way to train a puppy?\"),\n",
    "    (\"Random\", \"Which countries can I visit with a Schengen visa?\"),\n",
    "    (\"Random\", \"What are the health benefits of a Mediterranean diet?\"),\n",
    "    (\"Random\", \"How can I save energy in industrial manufacturing?\"),\n",
    "    (\"Random\", \"What is the latest standard in industrial automation communication?\"),\n",
    "    (\"Random\", \"How does a PLC work?\"),\n",
    "    (\"Random\", \"What is Industry 4.0 and how does it affect manufacturing?\"),\n",
    "    (\"Random\", \"What's the impact of artificial intelligence on job markets?\"),\n",
    "    (\"Random\", \"How do I create a secure home Wi-Fi network?\"),\n",
    "    (\"Random\", \"Can you explain blockchain technology in simple terms?\"),\n",
    "    (\"Random\", \"What are some effective strategies for stress management?\"),\n",
    "\n",
    "    # Sneaky Questions\n",
    "    (\"Sneaky\", \"How can I effectively manage remote industrial assets?\"),\n",
    "    (\"Sneaky\", \"What's the most reliable way to remotely access operating systems?\"),\n",
    "    (\"Sneaky\", \"Can you describe the process of secure remote troubleshooting?\"),\n",
    "    (\"Sneaky\", \"What are the best practices for M2M communication?\"),\n",
    "    (\"Sneaky\", \"How do I implement edge processing in device management?\"),\n",
    "    (\"Sneaky\", \"Which routers are best for dealing with legacy factory equipment?\"),\n",
    "    (\"Sneaky\", \"Is it possible to program automated messages from industrial systems?\"),\n",
    "    (\"Sneaky\", \"What are the requirements for remote device fleet management?\"),\n",
    "    (\"Sneaky\", \"How do SCADA systems integrate with newer IoT technologies?\"),\n",
    "    (\"Sneaky\", \"What kind of industrial routers can handle extreme temperatures?\"),\n",
    "    (\"Sneaky\", \"Are there universal troubleshooting steps for network equipment?\"),\n",
    "    (\"Sneaky\", \"Can IoT devices operate autonomously in remote locations?\"),\n",
    "    (\"Sneaky\", \"What cybersecurity risks are associated with connected industrial devices?\"),\n",
    "]\n",
    "\n",
    "questions = [question for label, question in questions_with_labels]\n",
    "\n",
    "# Compute all embeddings in one call for efficiency\n",
    "question_embeddings = compute_embeddings(questions)"
   ]
  },
  {
   "cell_type": "code",
   "execution_count": 131,
   "metadata": {},
   "outputs": [
    {
     "name": "stdout",
     "output_type": "stream",
     "text": [
      "                                                                            questions        labels  similarities\n",
      "36                             How can I effectively manage remote industrial assets?        Sneaky      0.876557\n",
      "38                     Can you describe the process of secure remote troubleshooting?        Sneaky      0.850671\n",
      "37                 What's the most reliable way to remotely access operating systems?        Sneaky      0.847636\n",
      "45                   What kind of industrial routers can handle extreme temperatures?        Sneaky      0.842549\n",
      "43                      What are the requirements for remote device fleet management?        Sneaky      0.837513\n",
      "33                                       How do I create a secure home Wi-Fi network?        Random      0.834421\n",
      "41                  Which routers are best for dealing with legacy factory equipment?        Sneaky      0.833373\n",
      "22                         What methods can I use for remote Ewon device maintenance?  Ewon-Related      0.831783\n",
      "47                          Can IoT devices operate autonomously in remote locations?        Sneaky      0.822240\n",
      "48         What cybersecurity risks are associated with connected industrial devices?        Sneaky      0.810754\n",
      "46                   Are there universal troubleshooting steps for network equipment?        Sneaky      0.809901\n",
      "29                What is the latest standard in industrial automation communication?        Random      0.804858\n",
      "42              Is it possible to program automated messages from industrial systems?        Sneaky      0.803970\n",
      "0                                      How do I set up data logging on my Ewon Flexy?  Ewon-Related      0.803463\n",
      "1   What troubleshooting steps are available for Ewon Cosy's VPN connectivity issues?  Ewon-Related      0.802155\n",
      "28                                 How can I save energy in industrial manufacturing?        Random      0.798823\n",
      "11                                    How do I manage user permissions on Ewon Flexy?  Ewon-Related      0.797282\n",
      "40                           How do I implement edge processing in device management?        Sneaky      0.794648\n",
      "31                         What is Industry 4.0 and how does it affect manufacturing?        Random      0.793420\n",
      "30                                                               How does a PLC work?        Random      0.792852\n",
      "2                              Which Ewon product should I use for IIoT applications?  Ewon-Related      0.787493\n",
      "44                        How do SCADA systems integrate with newer IoT technologies?        Sneaky      0.787248\n",
      "6                                                How secure are Ewon VPN connections?  Ewon-Related      0.785363\n",
      "15                     How many simultaneous VPN connections can an Ewon Cosy handle?  Ewon-Related      0.783892\n",
      "19                                   Can I control an Ewon device using a mobile app?  Ewon-Related      0.783375\n",
      "8               Can I connect my Ewon Flexy to multiple machine types simultaneously?  Ewon-Related      0.782020\n",
      "39                                 What are the best practices for M2M communication?        Sneaky      0.781637\n",
      "18                           Are there any IP rating certifications for Ewon devices?  Ewon-Related      0.778052\n",
      "14                            Is there a backup option for Ewon Flexy configurations?  Ewon-Related      0.777355\n",
      "21                      Can I integrate Ewon products with third-party IoT platforms?  Ewon-Related      0.772686\n",
      "20                                     How do firmware updates work on the Ewon Cosy?  Ewon-Related      0.770835\n",
      "4                                     How to integrate Ewon Flexy with Azure IoT Hub?  Ewon-Related      0.769531\n",
      "17               What kind of technical documentation is available for Ewon products?  Ewon-Related      0.766155\n",
      "23                     How does the Ewon Talk2M service handle large amounts of data?  Ewon-Related      0.765280\n",
      "9                       What are the data transfer limits on the Ewon Talk2M service?  Ewon-Related      0.757150\n",
      "12                                             What warranty comes with Ewon devices?  Ewon-Related      0.752706\n",
      "16                                         Do you provide support for Ewon scripting?  Ewon-Related      0.748874\n",
      "10                                 Are Ewon devices compatible with OPC UA protocols?  Ewon-Related      0.747759\n",
      "7                               Can the Ewon Flexy send SMS alerts for system events?  Ewon-Related      0.740402\n",
      "13                                Does Ewon offer any cloud-based analytics services?  Ewon-Related      0.736880\n",
      "3                                              Does Ewon Flexy support MQTT protocol?  Ewon-Related      0.734831\n",
      "5                       What's the difference between the Ewon Cosy and Flexy models?  Ewon-Related      0.731647\n",
      "34                             Can you explain blockchain technology in simple terms?        Random      0.729150\n",
      "32                       What's the impact of artificial intelligence on job markets?        Random      0.725624\n",
      "25                                    What's the most effective way to train a puppy?        Random      0.723566\n",
      "35                          What are some effective strategies for stress management?        Random      0.716038\n",
      "24                                 Can you recommend a good book for learning Python?        Random      0.713934\n",
      "26                                  Which countries can I visit with a Schengen visa?        Random      0.683981\n",
      "27                              What are the health benefits of a Mediterranean diet?        Random      0.679716\n"
     ]
    }
   ],
   "source": [
    "def calculate_similarities(search_term_vector, embedding_list):\n",
    "    return [cosine_similarity(search_term_vector, question_vector) for question_vector in embedding_list]\n",
    "\n",
    "search_term = \"How do I set up remote access on an industrial router?\"\n",
    "search_term_vector = get_embedding(search_term, engine=\"text-embedding-ada-002\")\n",
    "similarities = calculate_similarities(search_term_vector, question_embeddings)\n",
    "\n",
    "results_df = pd.DataFrame({\n",
    "    'questions': [question for _, question in questions_with_labels],\n",
    "    'labels': [label for label, _ in questions_with_labels],\n",
    "    'similarities': similarities\n",
    "})\n",
    "\n",
    "sorted_results_df = results_df.sort_values(\"similarities\", ascending=False)\n",
    "print(sorted_results_df.head(sorted_results_df.shape[0]))"
   ]
  }
 ],
 "metadata": {
  "kernelspec": {
   "display_name": "Python 3.11.2 64-bit",
   "language": "python",
   "name": "python3"
  },
  "language_info": {
   "codemirror_mode": {
    "name": "ipython",
    "version": 3
   },
   "file_extension": ".py",
   "mimetype": "text/x-python",
   "name": "python",
   "nbconvert_exporter": "python",
   "pygments_lexer": "ipython3",
   "version": "3.9.7"
  },
  "orig_nbformat": 4,
  "vscode": {
   "interpreter": {
    "hash": "0367f1d73b4c1f520b5612c60e5ee9942eb7b6534caa2d35bc879fe314a06f21"
   }
  }
 },
 "nbformat": 4,
 "nbformat_minor": 2
}
